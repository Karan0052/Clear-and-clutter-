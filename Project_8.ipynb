{
  "nbformat": 4,
  "nbformat_minor": 0,
  "metadata": {
    "colab": {
      "provenance": [],
      "authorship_tag": "ABX9TyPh6b4/dmyDWmlnyfR8w0zE",
      "include_colab_link": true
    },
    "kernelspec": {
      "name": "python3",
      "display_name": "Python 3"
    },
    "language_info": {
      "name": "python"
    }
  },
  "cells": [
    {
      "cell_type": "markdown",
      "metadata": {
        "id": "view-in-github",
        "colab_type": "text"
      },
      "source": [
        "<a href=\"https://colab.research.google.com/github/Karan0052/Clear-and-clutter-/blob/main/Project_8.ipynb\" target=\"_parent\"><img src=\"https://colab.research.google.com/assets/colab-badge.svg\" alt=\"Open In Colab\"/></a>"
      ]
    },
    {
      "cell_type": "code",
      "execution_count": null,
      "metadata": {
        "id": "lFnEZLzqGVNd"
      },
      "outputs": [],
      "source": [
        "import os\n",
        "\n",
        "files = os.listdir(\"clutteredFolder\")\n",
        "i = 1\n",
        "for file in files:\n",
        "  if file.endswith(\".png\"):\n",
        "    print(file)\n",
        "    os.rename(f\"clutteredFolder/{file}\", f\"clutteredFolder/{i}.png\")\n",
        "    i = i + 1"
      ]
    }
  ]
}